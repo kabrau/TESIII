{
 "cells": [
  {
   "cell_type": "code",
   "execution_count": 1,
   "metadata": {
    "collapsed": true
   },
   "outputs": [],
   "source": [
    "%matplotlib inline"
   ]
  },
  {
   "cell_type": "markdown",
   "metadata": {},
   "source": [
    "# =====================\n",
    "# PARTE 1 - TREINAMENTO\n",
    "# =====================\n"
   ]
  },
  {
   "cell_type": "markdown",
   "metadata": {},
   "source": [
    "# Exercício de reconhecimento de dígitos"
   ]
  },
  {
   "cell_type": "markdown",
   "metadata": {},
   "source": [
    "# Carrega o dataset de dígitos\n",
    "\n",
    "* São 70.000 imagens de dígitos (0 a 9) escritos a mão\n",
    "* Cada dígito tem o tamanho de 28x28, mas é armazenado em uma array de 784 bytes (28x28)\n"
   ]
  },
  {
   "cell_type": "code",
   "execution_count": 2,
   "metadata": {
    "collapsed": true
   },
   "outputs": [],
   "source": [
    "from sklearn import datasets\n",
    "import numpy as np\n",
    "\n",
    "dataset = datasets.fetch_mldata(\"MNIST Original\")\n",
    "\n",
    "features = np.array(dataset.data, 'int16') # 70.000 Digitos \n",
    "labels = np.array(dataset.target, 'int')   # 70.000 Rótulos"
   ]
  },
  {
   "cell_type": "markdown",
   "metadata": {},
   "source": [
    "# Mostrando alguns dígitos\n",
    "\n",
    "** TAREFA 01 **: Para ver se carregou corretamente, mostre as imagens de 4 dígitos   \n",
    "* dica 1: reshape o item do dígito escolhido para (28,28)\n"
   ]
  },
  {
   "cell_type": "code",
   "execution_count": 3,
   "metadata": {},
   "outputs": [
    {
     "data": {
      "image/png": "[encoded data removed]",
      "text/plain": [
       "<matplotlib.figure.Figure at 0x1bf2192de10>"
      ]
     },
     "metadata": {},
     "output_type": "display_data"
    }
   ],
   "source": [
    "import matplotlib.pyplot as plt\n",
    "\n",
    "# ====================== INICIO DO TEU CÓDIGO ======================\n",
    "\n",
    "\n",
    "\n",
    "# ====================== FIM DO TEU CÓDIGO ======================"
   ]
  },
  {
   "cell_type": "markdown",
   "metadata": {},
   "source": [
    "# Calculando o HOG e carregando em uma lista\n",
    "\n",
    "** TAREFA 02 **: calcule o HOG de cada digito e armazene no array ** list_hog_fd **.   \n",
    "Utilize os seguintes parâmetros: \n",
    "* block_norm='L2', orientations=9, pixels_per_cell=(14, 14), cells_per_block=(1, 1), visualise=False\n",
    "\n"
   ]
  },
  {
   "cell_type": "code",
   "execution_count": 4,
   "metadata": {},
   "outputs": [
    {
     "name": "stdout",
     "output_type": "stream",
     "text": [
      "Total calculado:  (70000, 36)\n"
     ]
    }
   ],
   "source": [
    "from skimage.feature import hog\n",
    "\n",
    "list_hog_fd = []\n",
    "\n",
    "# ====================== INÍCIO DO TEU CÓDIGO ======================\n",
    "\n",
    "\n",
    "    \n",
    "# ====================== FIM DO TEU CÓDIGO ======================    \n",
    "\n",
    "hog_features = np.array(list_hog_fd, 'float64')\n",
    "print( \"Total calculado: \", hog_features.shape )"
   ]
  },
  {
   "cell_type": "markdown",
   "metadata": {},
   "source": [
    "# Treinamento com SVM\n",
    "\n",
    "** TAREFA 03 **: Treine teu modelo usando SVM linear  \n",
    "(http://scikit-learn.org/stable/modules/generated/sklearn.svm.LinearSVC.html)   \n",
    "* Teu X (os dados de treinamento) estão em hog_features\n",
    "* Teu y (os rótulos) estão em labels\n"
   ]
  },
  {
   "cell_type": "code",
   "execution_count": 5,
   "metadata": {},
   "outputs": [
    {
     "data": {
      "text/plain": [
       "LinearSVC(C=1.0, class_weight=None, dual=True, fit_intercept=True,\n",
       "     intercept_scaling=1, loss='squared_hinge', max_iter=1000,\n",
       "     multi_class='ovr', penalty='l2', random_state=None, tol=0.0001,\n",
       "     verbose=0)"
      ]
     },
     "execution_count": 5,
     "metadata": {},
     "output_type": "execute_result"
    }
   ],
   "source": [
    "from sklearn.svm import LinearSVC\n",
    "modelo = LinearSVC()\n",
    "\n",
    "# ====================== INÍCIO DO TEU CÓDIGO ======================\n",
    "\n",
    "\n",
    "\n",
    "\n",
    "\n",
    "# ====================== FIM DO TEU CÓDIGO ======================"
   ]
  },
  {
   "cell_type": "markdown",
   "metadata": {},
   "source": [
    "# Salvando o Modelo em arquivo"
   ]
  },
  {
   "cell_type": "code",
   "execution_count": 6,
   "metadata": {},
   "outputs": [
    {
     "data": {
      "text/plain": [
       "['digits_cls.pkl']"
      ]
     },
     "execution_count": 6,
     "metadata": {},
     "output_type": "execute_result"
    }
   ],
   "source": [
    "from sklearn.externals import joblib\n",
    "joblib.dump(modelo, \"digits_cls.pkl\", compress=3)\n"
   ]
  },
  {
   "cell_type": "markdown",
   "metadata": {},
   "source": [
    "# Calcule a acurácia do modelo com os dados de treinamento\n",
    "\n",
    "** TAREFA 04 **: Faça a predição utilizando os mesmos dados de trenamento, guarde a predição na variável predictions\n"
   ]
  },
  {
   "cell_type": "code",
   "execution_count": 7,
   "metadata": {},
   "outputs": [
    {
     "name": "stdout",
     "output_type": "stream",
     "text": [
      "             precision    recall  f1-score   support\n",
      "\n",
      "          0       0.91      0.94      0.92      6903\n",
      "          1       0.95      0.97      0.96      7877\n",
      "          2       0.85      0.86      0.85      6990\n",
      "          3       0.85      0.85      0.85      7141\n",
      "          4       0.87      0.85      0.86      6824\n",
      "          5       0.91      0.91      0.91      6313\n",
      "          6       0.89      0.94      0.92      6876\n",
      "          7       0.90      0.87      0.89      7293\n",
      "          8       0.86      0.85      0.86      6825\n",
      "          9       0.83      0.81      0.82      6958\n",
      "\n",
      "avg / total       0.88      0.88      0.88     70000\n",
      "\n"
     ]
    }
   ],
   "source": [
    "#predictions\n",
    "\n",
    "# ====================== INÍCIO DO TEU CÓDIGO ======================\n",
    "\n",
    "\n",
    "\n",
    "# ====================== FIM DO TEU CÓDIGO ======================\n",
    "\n",
    "from sklearn.metrics import classification_report\n",
    "print(classification_report(labels,predictions))\n"
   ]
  },
  {
   "cell_type": "code",
   "execution_count": null,
   "metadata": {
    "collapsed": true
   },
   "outputs": [],
   "source": []
  },
  {
   "cell_type": "code",
   "execution_count": null,
   "metadata": {
    "collapsed": true
   },
   "outputs": [],
   "source": []
  }
 ],
 "metadata": {
  "kernelspec": {
   "display_name": "Python 3",
   "language": "python",
   "name": "python3"
  },
  "language_info": {
   "codemirror_mode": {
    "name": "ipython",
    "version": 3
   },
   "file_extension": ".py",
   "mimetype": "text/x-python",
   "name": "python",
   "nbconvert_exporter": "python",
   "pygments_lexer": "ipython3",
   "version": "3.5.3"
  }
 },
 "nbformat": 4,
 "nbformat_minor": 2
}
