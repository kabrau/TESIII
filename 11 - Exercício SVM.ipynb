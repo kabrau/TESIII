{
 "cells": [
  {
   "cell_type": "markdown",
   "metadata": {},
   "source": [
    "Neste exercício você deve preencher os códigos necessários para cada etapa\n"
   ]
  },
  {
   "cell_type": "markdown",
   "metadata": {},
   "source": [
    "# Importe as principais bibliotecas que irá usar\n",
    "os, opencv, matplotlib, numpy"
   ]
  },
  {
   "cell_type": "code",
   "execution_count": 1,
   "metadata": {
    "collapsed": true
   },
   "outputs": [],
   "source": [
    "#bibliotecas\n",
    "\n",
    "\n",
    "\n"
   ]
  },
  {
   "cell_type": "markdown",
   "metadata": {},
   "source": [
    "# Extração de Features\n",
    "\n",
    "Vamos criar uma função que retorne um array de características da imagem.  \n",
    "Serão 4 características: \n",
    "* percentual de pixels com valor acima 230 de do canal R do espaço de cor RGB \n",
    "* percentual de pixels com valor acima 230 de do canal G do espaço de cor RGB \n",
    "* percentual de pixels com valor acima 125 de do canal Cr do espaço de cor YCrCb \n",
    "* percentual de pixels com valor acima 125 de do canal Cb do espaço de cor YCrCb\n",
    "\n",
    "Exemplo de retorno: \n",
    "> [ 0.05094044      0.02194357      0.              0.04153605]\n"
   ]
  },
  {
   "cell_type": "code",
   "execution_count": 2,
   "metadata": {
    "collapsed": true
   },
   "outputs": [],
   "source": [
    "def featureExtract(imagem):\n",
    "    \n",
    "    # informe aqui o código\n",
    "    \n",
    "\n",
    "    \n",
    "    return (np.concatenate((percR,percG,percCr,percCb),axis=0).reshape(-1))"
   ]
  },
  {
   "cell_type": "markdown",
   "metadata": {},
   "source": [
    "# Leia o database de sinaleiras, conforme na tarefa 6\n",
    "A diferença está na informação armazenada em ListaX, na tarefa 6 é armazenado todos os pixels da imagem, neste exercício, vamos armazenar apenas o retorno da função ** featureExtract(imagem) ** \n",
    "\n",
    "Exemplo de retorno para 4 imagens:\n",
    "> [ 0.01465201  0.31868133  0.24267399  0.00641026]  \n",
    "> [ 0.          0.00172414  0.05689655  0.69482756]  \n",
    "> [ 0.01061224  0.06857143  0.20816326  0.20897959]  \n",
    "> [ 0.01400181  0.02619693  0.22899729  0.58039749]  \n"
   ]
  },
  {
   "cell_type": "code",
   "execution_count": 3,
   "metadata": {
    "collapsed": true
   },
   "outputs": [],
   "source": [
    "listaX = []\n",
    "listaY = []\n",
    "\n",
    "# informe aqui o código\n",
    "\n",
    "\n",
    "    \n"
   ]
  },
  {
   "cell_type": "markdown",
   "metadata": {},
   "source": [
    "  # Separe em dados de treino e testes\n",
    "  ## quantidade de testes = 33% \n",
    "  \n",
    "  X_train, X_test, y_train, y_test\n",
    "  \n",
    "  utilizando ** train_test_split **"
   ]
  },
  {
   "cell_type": "code",
   "execution_count": 4,
   "metadata": {
    "collapsed": true
   },
   "outputs": [],
   "source": [
    "# informe aqui o código\n",
    "\n",
    "\n"
   ]
  },
  {
   "cell_type": "markdown",
   "metadata": {},
   "source": [
    "O retorno da dos comandos deve ser: \n",
    "> (402, 4)  \n",
    "> (402,)  \n",
    "> (198, 4)  \n",
    "> (198,)  "
   ]
  },
  {
   "cell_type": "code",
   "execution_count": 5,
   "metadata": {},
   "outputs": [
    {
     "name": "stdout",
     "output_type": "stream",
     "text": [
      "(402, 4)\n",
      "(402,)\n",
      "(198, 4)\n",
      "(198,)\n"
     ]
    }
   ],
   "source": [
    "X_train = np.array(X_train)\n",
    "y_train = np.array(y_train)\n",
    "X_test = np.array(X_test)\n",
    "y_test = np.array(y_test)\n",
    "\n",
    "print(X_train.shape)\n",
    "print(y_train.shape)\n",
    "print(X_test.shape)\n",
    "print(y_test.shape)"
   ]
  },
  {
   "cell_type": "markdown",
   "metadata": {},
   "source": [
    "# Faça o treinamento com SVM\n"
   ]
  },
  {
   "cell_type": "code",
   "execution_count": 6,
   "metadata": {},
   "outputs": [
    {
     "data": {
      "text/plain": [
       "SVC(C=1.0, cache_size=200, class_weight=None, coef0=0.0,\n",
       "  decision_function_shape=None, degree=3, gamma='auto', kernel='rbf',\n",
       "  max_iter=-1, probability=False, random_state=None, shrinking=True,\n",
       "  tol=0.001, verbose=False)"
      ]
     },
     "execution_count": 6,
     "metadata": {},
     "output_type": "execute_result"
    }
   ],
   "source": [
    "# informe aqui o código\n",
    "\n"
   ]
  },
  {
   "cell_type": "markdown",
   "metadata": {},
   "source": [
    "# Faça a predição"
   ]
  },
  {
   "cell_type": "code",
   "execution_count": 7,
   "metadata": {
    "collapsed": true
   },
   "outputs": [],
   "source": [
    "# informe aqui o código\n",
    "\n"
   ]
  },
  {
   "cell_type": "markdown",
   "metadata": {
    "collapsed": true
   },
   "source": [
    "# Mostre a matriz de confusão e as medidas de avaliação\n",
    "utilizando: ** classification_report e confusion_matrix **"
   ]
  },
  {
   "cell_type": "code",
   "execution_count": 8,
   "metadata": {},
   "outputs": [
    {
     "name": "stdout",
     "output_type": "stream",
     "text": [
      "[[ 50  21]\n",
      " [  9 118]]\n",
      "             precision    recall  f1-score   support\n",
      "\n",
      "          0       0.85      0.70      0.77        71\n",
      "          1       0.85      0.93      0.89       127\n",
      "\n",
      "avg / total       0.85      0.85      0.84       198\n",
      "\n"
     ]
    }
   ],
   "source": [
    "# informe aqui o código\n",
    "\n"
   ]
  },
  {
   "cell_type": "markdown",
   "metadata": {},
   "source": [
    "# Faça o cross-validation para encontrar os melhores parâmatros para o SVM\n",
    "utilizando ** GridSearchCV **"
   ]
  },
  {
   "cell_type": "code",
   "execution_count": 9,
   "metadata": {},
   "outputs": [
    {
     "name": "stdout",
     "output_type": "stream",
     "text": [
      "Fitting 3 folds for each of 25 candidates, totalling 75 fits\n"
     ]
    },
    {
     "name": "stderr",
     "output_type": "stream",
     "text": [
      "[Parallel(n_jobs=1)]: Done  75 out of  75 | elapsed:    0.3s finished\n"
     ]
    },
    {
     "data": {
      "text/plain": [
       "GridSearchCV(cv=None, error_score='raise',\n",
       "       estimator=SVC(C=1.0, cache_size=200, class_weight=None, coef0=0.0,\n",
       "  decision_function_shape=None, degree=3, gamma='auto', kernel='rbf',\n",
       "  max_iter=-1, probability=False, random_state=None, shrinking=True,\n",
       "  tol=0.001, verbose=False),\n",
       "       fit_params={}, iid=True, n_jobs=1,\n",
       "       param_grid={'C': [0.1, 1, 10, 100, 1000], 'gamma': [1, 0.1, 0.01, 0.001, 0.0001]},\n",
       "       pre_dispatch='2*n_jobs', refit=True, return_train_score=True,\n",
       "       scoring=None, verbose=1)"
      ]
     },
     "execution_count": 9,
     "metadata": {},
     "output_type": "execute_result"
    }
   ],
   "source": [
    "# informe aqui o código\n",
    "\n"
   ]
  },
  {
   "cell_type": "markdown",
   "metadata": {},
   "source": [
    "# Faça a predição novamente, agora com os novos parâmetros selecionados"
   ]
  },
  {
   "cell_type": "code",
   "execution_count": 10,
   "metadata": {
    "collapsed": true
   },
   "outputs": [],
   "source": [
    "# informe aqui o código\n",
    "\n"
   ]
  },
  {
   "cell_type": "markdown",
   "metadata": {},
   "source": [
    "# Mostre a matriz de confusão e as medidas de avaliação"
   ]
  },
  {
   "cell_type": "code",
   "execution_count": 11,
   "metadata": {},
   "outputs": [
    {
     "name": "stdout",
     "output_type": "stream",
     "text": [
      "[[ 69   2]\n",
      " [  0 127]]\n",
      "             precision    recall  f1-score   support\n",
      "\n",
      "          0       1.00      0.97      0.99        71\n",
      "          1       0.98      1.00      0.99       127\n",
      "\n",
      "avg / total       0.99      0.99      0.99       198\n",
      "\n"
     ]
    }
   ],
   "source": [
    "# informe aqui o código\n",
    "\n"
   ]
  },
  {
   "cell_type": "code",
   "execution_count": null,
   "metadata": {
    "collapsed": true
   },
   "outputs": [],
   "source": []
  }
 ],
 "metadata": {
  "kernelspec": {
   "display_name": "Python 3",
   "language": "python",
   "name": "python3"
  },
  "language_info": {
   "codemirror_mode": {
    "name": "ipython",
    "version": 3
   },
   "file_extension": ".py",
   "mimetype": "text/x-python",
   "name": "python",
   "nbconvert_exporter": "python",
   "pygments_lexer": "ipython3",
   "version": "3.6.2"
  }
 },
 "nbformat": 4,
 "nbformat_minor": 2
}
