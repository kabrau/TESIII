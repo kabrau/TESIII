{
 "cells": [
  {
   "cell_type": "code",
   "execution_count": 89,
   "metadata": {
    "collapsed": true
   },
   "outputs": [],
   "source": [
    "#para mostrar imagens aqui no jupyter notebook\n",
    "%matplotlib inline \n",
    "\n",
    "from scipy import ndimage\n",
    "import numpy as np\n",
    "import matplotlib.pyplot as plt \n",
    "import cv2"
   ]
  },
  {
   "cell_type": "markdown",
   "metadata": {},
   "source": [
    "# Criando uma imagem"
   ]
  },
  {
   "cell_type": "code",
   "execution_count": 90,
   "metadata": {},
   "outputs": [
    {
     "name": "stdout",
     "output_type": "stream",
     "text": [
      "[[1 0 0 0 0 0 0 0 0 0 0 0 0 0 0 0 0 0 0 0]\n",
      " [0 0 0 0 0 0 0 0 0 0 0 0 0 0 0 0 0 0 0 0]\n",
      " [0 0 1 1 1 1 1 0 0 1 1 1 1 1 1 1 1 0 0 0]\n",
      " [0 0 1 1 1 1 1 0 0 1 1 1 1 1 1 1 1 0 0 0]\n",
      " [0 0 1 1 1 1 1 0 0 1 1 1 1 1 1 1 1 0 0 0]\n",
      " [0 0 1 1 1 1 1 0 0 1 1 1 1 1 1 1 1 0 0 0]\n",
      " [0 0 1 1 1 1 1 0 0 1 1 1 1 1 1 1 1 0 0 0]\n",
      " [0 0 1 1 1 1 1 0 0 1 1 1 1 1 1 1 1 0 0 0]\n",
      " [0 0 0 0 0 0 0 0 0 1 1 1 1 1 1 1 1 0 0 0]\n",
      " [0 0 0 0 0 0 0 0 0 1 1 1 1 1 1 1 1 0 0 0]\n",
      " [0 0 0 0 0 0 0 0 0 1 1 1 1 1 1 1 1 0 0 1]\n",
      " [0 0 0 0 0 0 0 0 0 1 1 1 1 1 1 1 1 0 0 1]\n",
      " [0 0 0 0 0 0 0 0 0 1 1 1 1 1 1 1 1 0 0 0]\n",
      " [0 0 0 0 0 0 0 0 0 1 1 1 1 1 1 1 1 0 0 0]\n",
      " [0 0 0 0 0 0 0 0 0 1 1 1 1 1 1 1 1 0 0 0]\n",
      " [0 0 0 0 0 0 0 0 0 1 1 1 1 1 1 1 1 0 0 0]\n",
      " [0 0 0 0 0 0 0 0 0 0 0 0 0 0 0 0 0 0 0 0]\n",
      " [0 0 0 0 0 0 0 0 1 1 0 0 0 0 0 0 0 0 0 0]\n",
      " [0 0 0 0 0 0 0 0 1 1 0 0 0 0 0 0 0 0 0 0]\n",
      " [0 0 0 0 0 0 0 0 0 0 0 0 0 0 0 0 0 0 0 0]]\n"
     ]
    },
    {
     "data": {
      "image/png": "[encoded data removed]",
      "text/plain": [
       "<matplotlib.figure.Figure at 0x14bf503f240>"
      ]
     },
     "metadata": {},
     "output_type": "display_data"
    }
   ],
   "source": [
    "quadrado = np.zeros((20,20), dtype=np.int)\n",
    "quadrado[2:8, 2:7] = 1 # retangulo pequeno\n",
    "quadrado[2:16, 9:17] = 1 # retangulo grande\n",
    "\n",
    "quadrado[0:1, 0:1] = 1 # sugeira\n",
    "quadrado[10:12, 19:20] = 1 # sugeira\n",
    "quadrado[17:19, 8:10] = 1 # sugeira\n",
    "\n",
    "print(quadrado)\n",
    "\n",
    "plt.imshow(quadrado) \n",
    "plt.show()"
   ]
  },
  {
   "cell_type": "markdown",
   "metadata": {},
   "source": [
    "# EROSÃO\n"
   ]
  },
  {
   "cell_type": "code",
   "execution_count": 91,
   "metadata": {},
   "outputs": [
    {
     "data": {
      "image/png": "[encoded data removed]",
      "text/plain": [
       "<matplotlib.figure.Figure at 0x14bf4ce7908>"
      ]
     },
     "metadata": {},
     "output_type": "display_data"
    }
   ],
   "source": [
    "erosao = ndimage.binary_erosion(quadrado).astype(quadrado.dtype)\n",
    "\n",
    "plt.subplot(1,2,1)\n",
    "plt.title(\"Original\")\n",
    "plt.imshow(quadrado) \n",
    "\n",
    "plt.subplot(1,2,2)\n",
    "plt.title(\"Erosão\")\n",
    "plt.imshow(erosao) \n",
    "plt.show()\n",
    "\n"
   ]
  },
  {
   "cell_type": "markdown",
   "metadata": {},
   "source": [
    "# DILATAÇÃO"
   ]
  },
  {
   "cell_type": "code",
   "execution_count": 92,
   "metadata": {},
   "outputs": [
    {
     "data": {
      "image/png": "[encoded data removed]",
      "text/plain": [
       "<matplotlib.figure.Figure at 0x14bf4fdebe0>"
      ]
     },
     "metadata": {},
     "output_type": "display_data"
    }
   ],
   "source": [
    "dilatacao = ndimage.binary_dilation(quadrado).astype(quadrado.dtype)\n",
    "\n",
    "plt.subplot(1,2,1)\n",
    "plt.title(\"Original\")\n",
    "plt.imshow(quadrado) \n",
    "\n",
    "plt.subplot(1,2,2)\n",
    "plt.title(\"Dilatação\")\n",
    "plt.imshow(dilatacao) \n",
    "plt.show()"
   ]
  },
  {
   "cell_type": "markdown",
   "metadata": {},
   "source": [
    "# ABERTURA\n",
    "## (EROSÃO + DILATAÇÃO)"
   ]
  },
  {
   "cell_type": "code",
   "execution_count": 93,
   "metadata": {},
   "outputs": [
    {
     "data": {
      "image/png": "[encoded data removed]",
      "text/plain": [
       "<matplotlib.figure.Figure at 0x14bf51253c8>"
      ]
     },
     "metadata": {},
     "output_type": "display_data"
    }
   ],
   "source": [
    "abertura = ndimage.binary_opening(quadrado).astype(erosao.dtype)\n",
    "\n",
    "plt.subplot(1,2,1)\n",
    "plt.title(\"Original\")\n",
    "plt.imshow(quadrado) \n",
    "\n",
    "plt.subplot(1,2,2)\n",
    "plt.title(\"Abertura = Erosão + Dilatação\")\n",
    "\n",
    "plt.imshow(abertura) \n",
    "plt.show()"
   ]
  },
  {
   "cell_type": "markdown",
   "metadata": {},
   "source": [
    "# FECHAMENTO\n",
    "## DILATAÇÃO + EROSÃO"
   ]
  },
  {
   "cell_type": "code",
   "execution_count": 101,
   "metadata": {},
   "outputs": [
    {
     "data": {
      "image/png": "[encoded data removed]",
      "text/plain": [
       "<matplotlib.figure.Figure at 0x14bf50a8ba8>"
      ]
     },
     "metadata": {},
     "output_type": "display_data"
    }
   ],
   "source": [
    "fechamento = ndimage.binary_closing(quadrado).astype(erosao.dtype)\n",
    "\n",
    "plt.subplot(1,2,1)\n",
    "plt.title(\"Original\")\n",
    "plt.imshow(quadrado) \n",
    "\n",
    "plt.subplot(1,2,2)\n",
    "plt.title(\"Fechamento = Dilatação + Erosão\")\n",
    "\n",
    "\n",
    "plt.imshow(fechamento) \n",
    "plt.show()"
   ]
  },
  {
   "cell_type": "markdown",
   "metadata": {},
   "source": [
    "# Extração de Fronteiras"
   ]
  },
  {
   "cell_type": "code",
   "execution_count": 97,
   "metadata": {},
   "outputs": [
    {
     "data": {
      "image/png": "[encoded data removed]",
      "text/plain": [
       "<matplotlib.figure.Figure at 0x14bf4ce1dd8>"
      ]
     },
     "metadata": {},
     "output_type": "display_data"
    }
   ],
   "source": [
    "erosao = ndimage.binary_erosion(quadrado).astype(quadrado.dtype)\n",
    "subtracao = cv2.subtract(quadrado, erosao)\n",
    "\n",
    "plt.subplot(1,2,1)\n",
    "plt.title(\"Original\")\n",
    "plt.imshow(quadrado) \n",
    "\n",
    "plt.subplot(1,2,2)\n",
    "plt.title(\"Original - (erosao( Original ))\")\n",
    "plt.imshow(subtracao) \n",
    "plt.show()"
   ]
  },
  {
   "cell_type": "code",
   "execution_count": null,
   "metadata": {
    "collapsed": true
   },
   "outputs": [],
   "source": []
  },
  {
   "cell_type": "code",
   "execution_count": null,
   "metadata": {
    "collapsed": true
   },
   "outputs": [],
   "source": []
  },
  {
   "cell_type": "code",
   "execution_count": null,
   "metadata": {
    "collapsed": true
   },
   "outputs": [],
   "source": []
  }
 ],
 "metadata": {
  "kernelspec": {
   "display_name": "Python 3",
   "language": "python",
   "name": "python3"
  },
  "language_info": {
   "codemirror_mode": {
    "name": "ipython",
    "version": 3
   },
   "file_extension": ".py",
   "mimetype": "text/x-python",
   "name": "python",
   "nbconvert_exporter": "python",
   "pygments_lexer": "ipython3",
   "version": "3.6.2"
  }
 },
 "nbformat": 4,
 "nbformat_minor": 2
}
