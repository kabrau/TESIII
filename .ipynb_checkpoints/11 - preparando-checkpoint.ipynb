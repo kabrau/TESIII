{
 "cells": [
  {
   "cell_type": "code",
   "execution_count": 34,
   "metadata": {
    "collapsed": true
   },
   "outputs": [],
   "source": [
    "#para mostrar imagens aqui no jupyter notebook\n",
    "%matplotlib inline\n",
    "\n",
    "import numpy as np\n",
    "import matplotlib.pyplot as plt\n",
    "from sklearn import svm"
   ]
  },
  {
   "cell_type": "code",
   "execution_count": 108,
   "metadata": {},
   "outputs": [
    {
     "data": {
      "image/png": "[encoded data removed]",
      "text/plain": [
       "<matplotlib.figure.Figure at 0x1da8980e9e8>"
      ]
     },
     "metadata": {},
     "output_type": "display_data"
    }
   ],
   "source": [
    "# Resultado impar em somas de dois numeros\n",
    "\n",
    "X = np.array([[ 3  ,2  ],\n",
    "              [ 5  ,8  ],\n",
    "              [ 2.5,1.8],\n",
    "              [ 8  ,8  ],\n",
    "              [ 4  ,0.6],\n",
    "              [ 2  ,8  ],\n",
    "              [ 3  ,7  ],\n",
    "              [ 4  ,6  ],\n",
    "              [ 5  ,5  ],\n",
    "              [ 6  ,8  ],\n",
    "              [ 7  ,4  ],\n",
    "              [ 8  ,1  ],\n",
    "              [ 1  ,3  ],\n",
    "              [ 2  ,4  ],\n",
    "              [ 9  ,9 ]])\n",
    "\n",
    "y = [0,1,0,1,0,1,1,1,1,1,1,1,0,0,1]\n",
    "\n",
    "plt.scatter(X[:,0],X[:,1], c=y)\n",
    "plt.show()\n"
   ]
  },
  {
   "cell_type": "code",
   "execution_count": 109,
   "metadata": {
    "collapsed": true
   },
   "outputs": [],
   "source": [
    "\n",
    "clf = svm.SVC(kernel='linear', C = 1.0)"
   ]
  },
  {
   "cell_type": "code",
   "execution_count": 110,
   "metadata": {},
   "outputs": [
    {
     "data": {
      "text/plain": [
       "SVC(C=1.0, cache_size=200, class_weight=None, coef0=0.0,\n",
       "  decision_function_shape='ovr', degree=3, gamma='auto', kernel='linear',\n",
       "  max_iter=-1, probability=False, random_state=None, shrinking=True,\n",
       "  tol=0.001, verbose=False)"
      ]
     },
     "execution_count": 110,
     "metadata": {},
     "output_type": "execute_result"
    }
   ],
   "source": [
    "clf.fit(X,y)"
   ]
  },
  {
   "cell_type": "code",
   "execution_count": 114,
   "metadata": {},
   "outputs": [
    {
     "name": "stdout",
     "output_type": "stream",
     "text": [
      "[0]\n",
      "[0]\n",
      "[0]\n",
      "[1]\n"
     ]
    }
   ],
   "source": [
    "print(clf.predict([[0.58,0.76]]))\n",
    "\n",
    "print(clf.predict([[2,2]]))\n",
    "\n",
    "print(clf.predict([[0.1,3]]))\n",
    "\n",
    "print(clf.predict([[10.58,10.76]]))\n"
   ]
  },
  {
   "cell_type": "code",
   "execution_count": 126,
   "metadata": {},
   "outputs": [],
   "source": [
    "# create a mesh to plot in\n",
    "x_min, x_max = X[:, 0].min() - 0.1, X[:, 0].max() + 1\n",
    "y_min, y_max = X[:, 1].min() - 0.1, X[:, 1].max() + 1\n",
    "\n",
    "h = (x_max / x_min)/10\n",
    "\n",
    "#print(x_min, x_max, y_min, y_max, h)\n",
    "\n",
    "xx, yy = np.meshgrid(np.arange(x_min, x_max, h), np.arange(y_min, y_max, h))\n",
    "\n",
    "#print(xx.shape)\n",
    "#print(yy.shape)\n",
    "#print(np.c_[xx.ravel(), yy.ravel()].shape)\n",
    "\n",
    "#print(np.c_[xx.ravel(), yy.ravel()])"
   ]
  },
  {
   "cell_type": "code",
   "execution_count": 128,
   "metadata": {},
   "outputs": [
    {
     "data": {
      "image/png": "[encoded data removed]",
      "text/plain": [
       "<matplotlib.figure.Figure at 0x1da89b7fb00>"
      ]
     },
     "metadata": {},
     "output_type": "display_data"
    }
   ],
   "source": [
    "plt.subplot(1, 1, 1)\n",
    "\n",
    "\n",
    "\n",
    "Z = svc.predict(np.c_[xx.ravel(), yy.ravel()])\n",
    "Z = Z.reshape(xx.shape)\n",
    "\n",
    "\n",
    "plt.scatter(xx.ravel(), yy.ravel(), c=Z.ravel(), cmap=plt.cm.Paired)\n",
    "\n",
    "\n",
    "#plt.contourf(xx, yy, Z, cmap=plt.cm.Paired, alpha=0.1)\n",
    "#plt.scatter(X[:, 0], X[:, 1], c=y, cmap=plt.cm.Paired)\n",
    "\n",
    "plt.xlabel('Sepal length')\n",
    "plt.ylabel('Sepal width')\n",
    "plt.xlim(xx.min(), xx.max())\n",
    "plt.title('SVC with linear kernel')\n",
    "plt.show()"
   ]
  },
  {
   "cell_type": "code",
   "execution_count": null,
   "metadata": {},
   "outputs": [],
   "source": []
  },
  {
   "cell_type": "code",
   "execution_count": null,
   "metadata": {
    "collapsed": true
   },
   "outputs": [],
   "source": []
  }
 ],
 "metadata": {
  "kernelspec": {
   "display_name": "Python 3",
   "language": "python",
   "name": "python3"
  },
  "language_info": {
   "codemirror_mode": {
    "name": "ipython",
    "version": 3
   },
   "file_extension": ".py",
   "mimetype": "text/x-python",
   "name": "python",
   "nbconvert_exporter": "python",
   "pygments_lexer": "ipython3",
   "version": "3.6.2"
  }
 },
 "nbformat": 4,
 "nbformat_minor": 2
}
