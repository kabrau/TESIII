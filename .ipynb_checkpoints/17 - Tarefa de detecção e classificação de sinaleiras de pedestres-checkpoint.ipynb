{
 "cells": [
  {
   "cell_type": "markdown",
   "metadata": {},
   "source": [
    "# Tarefa de detecção e classificação de sinaleiras de pedestres"
   ]
  },
  {
   "cell_type": "markdown",
   "metadata": {},
   "source": [
    "# Dataset - Conjunto de dados de sinaleiras de pedestre\n",
    "\n",
    "https://drive.google.com/drive/folders/0B2MY7T7S8OmJWHYtNDBLTDRsa0k?usp=sharing\n",
    "\n",
    "\n",
    "Todas as imagens foram marcadas manualmente usando a ferramenta disponível em:\n",
    "https://github.com/kabrau/PyImageRoi\n",
    "\n",
    "Existem 3 classes de sinais de pedestres:\n",
    "* Classe 0 - Go - sinaleiras de pedestres com luz verde acesa.\n",
    "* Classe 1 - Stop - sinaleiras de pedestres com luz vermelha acesa.\n",
    "* Classe 2 - Off - sinaleiras de pedestres com todas as luzes desligadas, neste caso também podem ser considerados como classe Stop.\n",
    "\n",
    "Existem 2 arquivos zip, um para classificação, com imagens cortadas/extraidas apenas com as sinaileiras de pedestres e outro para detecção, com cenas de imagens que contêm, ou não, sinaleiras de pedestres.\n",
    "\n",
    "O arquivo **pedestrian_signal_classification.zip**, para classificação, possui 3 pastas separadas por classe:\n",
    "* 1039 classe 0.\n",
    "* 2229 classe 1.\n",
    "* 520 classe 2.\n",
    "\n",
    "O arquivo **pedestrian_signal_detection.zip**, para detecção, possui um total de 3612 imagens e 3612 arquivos de texto. Para cada imagem há um arquivo de texto com posições de sinal na imagem. A descrição do arquivo de texto está em:\n",
    "https://github.com/kabrau/PyImageRoi#createboundingboxes"
   ]
  },
  {
   "cell_type": "code",
   "execution_count": null,
   "metadata": {},
   "outputs": [],
   "source": [
    "def calcula_acuracia(predicto, y):\n",
    "    return 0\n",
    "\n",
    "# ROTINA DE DETECAÇÃO\n",
    "# Le Imagens\n",
    "\n",
    "X = [] # Lista de imagens\n",
    "y = [] # Rotulos imagens\n",
    "\n",
    "# Trata Imagens\n",
    "\n",
    "X = Ajusta_Imagens(X)\n",
    "\n",
    "# Testa Imagens\n",
    "\n",
    "\n",
    "# 3 imagens\n",
    "# cada linha uma imagem\n",
    "# em cada linha pode haver 0, 1 ou mais classes preditas\n",
    "\n",
    "#Rotulos\n",
    "y = [[[0, 1261, 1655, 136, 203],[0, 1261, 1655, 136, 203]],  # 2 classes\n",
    "     [],                                                     # 0 classes\n",
    "     [[0, 1261, 1655, 136, 203]]]                            # 1 classe\n",
    "\n",
    "#Preditos\n",
    "predito = [[[0, 1261, 1655, 136, 203]],  # 2 classes\n",
    "          [],                            # 0 classes\n",
    "          [[0, 1261, 1655, 136, 203]]]   # 1 classe\n",
    "\n",
    "\n",
    "print(calcula_acuracia(predito, y))\n",
    "\n",
    "\n"
   ]
  }
 ],
 "metadata": {
  "kernelspec": {
   "display_name": "Python 3",
   "language": "python",
   "name": "python3"
  },
  "language_info": {
   "codemirror_mode": {
    "name": "ipython",
    "version": 3
   },
   "file_extension": ".py",
   "mimetype": "text/x-python",
   "name": "python",
   "nbconvert_exporter": "python",
   "pygments_lexer": "ipython3",
   "version": "3.6.2"
  }
 },
 "nbformat": 4,
 "nbformat_minor": 2
}
