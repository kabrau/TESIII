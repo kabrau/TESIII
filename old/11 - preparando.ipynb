{
 "cells": [
  {
   "cell_type": "code",
   "execution_count": 34,
   "metadata": {
    "collapsed": true
   },
   "outputs": [],
   "source": [
    "#para mostrar imagens aqui no jupyter notebook\n",
    "%matplotlib inline\n",
    "\n",
    "import numpy as np\n",
    "import matplotlib.pyplot as plt\n",
    "from sklearn import svm"
   ]
  },
  {
   "cell_type": "code",
   "execution_count": 191,
   "metadata": {},
   "outputs": [
    {
     "data": {
      "image/png": "[encoded data removed]",
      "text/plain": [
       "<matplotlib.figure.Figure at 0x1da896b73c8>"
      ]
     },
     "metadata": {},
     "output_type": "display_data"
    }
   ],
   "source": [
    "# Resultado impar em somas de dois numeros\n",
    "\n",
    "\n",
    "#            ALTURA e PESO\n",
    "X = np.array([[ 156, 50 ],\n",
    "              [ 158, 44 ],\n",
    "              [ 161, 57 ],\n",
    "              [ 161, 57 ],\n",
    "              [ 162, 55 ],\n",
    "              [ 162, 58 ],\n",
    "              [ 162, 63 ],\n",
    "              [ 162, 65 ],\n",
    "              [ 163, 45 ],\n",
    "              [ 163, 45 ],\n",
    "              [ 163, 55 ],\n",
    "              [ 163, 60 ],\n",
    "              [ 163, 61 ],\n",
    "              [ 163, 62 ],\n",
    "              [ 163, 64 ],\n",
    "              [ 164, 52 ],\n",
    "              [ 164, 56 ],\n",
    "              [ 164, 56 ],\n",
    "              [ 164, 58 ],\n",
    "              [ 164, 58 ],\n",
    "              [ 164, 58 ],\n",
    "              [ 164, 59 ],\n",
    "              [ 164, 60 ],\n",
    "              [ 164, 60 ],\n",
    "              [ 164, 61 ],\n",
    "              [ 164, 62 ],\n",
    "              [ 164, 64 ],\n",
    "              [ 164, 66 ],\n",
    "              [ 165, 46 ],\n",
    "              [ 165, 49 ]])\n",
    "\n",
    "# Faz Exporte ?\n",
    "y = [0,1,0,0,1,1,0,0,1,1,0,0,0,0,0,1,1,0,0,0,0,0,0,0,0,0,0,0,1,1]\n",
    "\n",
    "plt.scatter(X[:,0],X[:,1], c=y)\n",
    "plt.show()\n"
   ]
  },
  {
   "cell_type": "code",
   "execution_count": 193,
   "metadata": {
    "collapsed": true
   },
   "outputs": [],
   "source": [
    "clf = svm.SVC(kernel='linear', C = 1.0)"
   ]
  },
  {
   "cell_type": "code",
   "execution_count": 194,
   "metadata": {},
   "outputs": [
    {
     "data": {
      "text/plain": [
       "SVC(C=1.0, cache_size=200, class_weight=None, coef0=0.0,\n",
       "  decision_function_shape='ovr', degree=3, gamma='auto', kernel='linear',\n",
       "  max_iter=-1, probability=False, random_state=None, shrinking=True,\n",
       "  tol=0.001, verbose=False)"
      ]
     },
     "execution_count": 194,
     "metadata": {},
     "output_type": "execute_result"
    }
   ],
   "source": [
    "clf.fit(X,y)"
   ]
  },
  {
   "cell_type": "code",
   "execution_count": 195,
   "metadata": {},
   "outputs": [
    {
     "name": "stdout",
     "output_type": "stream",
     "text": [
      "[0]\n",
      "[0]\n"
     ]
    }
   ],
   "source": [
    "print(clf.predict([[4,1]]))\n",
    "print(clf.predict([[4,5]]))"
   ]
  },
  {
   "cell_type": "code",
   "execution_count": 196,
   "metadata": {},
   "outputs": [
    {
     "data": {
      "image/png": "[encoded data removed]",
      "text/plain": [
       "<matplotlib.figure.Figure at 0x1da89771ef0>"
      ]
     },
     "metadata": {},
     "output_type": "display_data"
    }
   ],
   "source": [
    "plt.subplot(1, 1, 1)\n",
    "\n",
    "plt.scatter(X[:, 0],X[:, 1], c=y, cmap=plt.cm.Paired)\n",
    "plt.title('SVC with linear kernel')\n",
    "\n",
    "w = clf.coef_[0]\n",
    "a = -w[0] / w[1]\n",
    "xx = np.linspace(0,9)\n",
    "yy = a * xx - clf.intercept_[0] / w[1]\n",
    "h0 = plt.plot(xx, yy, 'k-', label=\"non weighted div\")\n",
    "\n",
    "plt.show()"
   ]
  },
  {
   "cell_type": "code",
   "execution_count": null,
   "metadata": {
    "collapsed": true
   },
   "outputs": [],
   "source": []
  },
  {
   "cell_type": "code",
   "execution_count": 197,
   "metadata": {},
   "outputs": [
    {
     "data": {
      "image/png": "[encoded data removed]",
      "text/plain": [
       "<matplotlib.figure.Figure at 0x1da89a24710>"
      ]
     },
     "metadata": {},
     "output_type": "display_data"
    }
   ],
   "source": [
    "clf2 = svm.SVC(kernel='rbf', C = 1.0)\n",
    "clf2.fit(X,y)\n",
    "\n",
    "# create a mesh to plot in\n",
    "h=0.2\n",
    "x_min, x_max = X[:,0].min()-1, X[:,0].max()+2\n",
    "y_min, y_max = X[:,1].min()-1, X[:,1].max()+2\n",
    "xx, yy = np.meshgrid(np.arange(x_min, x_max, h),\n",
    "                     np.arange(y_min, y_max, h))\n",
    "\n",
    "##Z = clf.predict(np.c_[xx.ravel(), yy.ravel()])\n",
    "#Z = Z.reshape(xx.shape)\n",
    "\n",
    "#plt.contourf(xx, yy, Z, colors='k', levels=[-1, 0, 1], alpha=0.5,\n",
    "#           linestyles=['--', '-', '--'])\n",
    "\n",
    "\n",
    "plt.scatter(X[:, 0],X[:, 1], c=y, cmap=plt.cm.Paired)\n",
    "plt.title('SVC with linear kernel')\n",
    "\n",
    "\n",
    "# plot the decision function\n",
    "ax = plt.gca()\n",
    "xlim = ax.get_xlim()\n",
    "ylim = ax.get_ylim()\n",
    "\n",
    "# create grid to evaluate model\n",
    "xx = np.linspace(xlim[0], xlim[1], 30)\n",
    "yy = np.linspace(ylim[0], ylim[1], 30)\n",
    "YY, XX = np.meshgrid(yy, xx)\n",
    "xy = np.vstack([XX.ravel(), YY.ravel()]).T\n",
    "Z = clf.decision_function(xy).reshape(XX.shape)\n",
    "\n",
    "# plot decision boundary and margins\n",
    "ax.contour(XX, YY, Z, colors='k', levels=[-1, 0, 1], alpha=0.5,\n",
    "           linestyles=['--', '-', '--'])\n",
    "# plot support vectors\n",
    "ax.scatter(clf.support_vectors_[:, 0], clf.support_vectors_[:, 1], s=100,\n",
    "           linewidth=1, facecolors='none')\n",
    "\n",
    "plt.show()"
   ]
  },
  {
   "cell_type": "code",
   "execution_count": null,
   "metadata": {
    "collapsed": true
   },
   "outputs": [],
   "source": []
  }
 ],
 "metadata": {
  "kernelspec": {
   "display_name": "Python 3",
   "language": "python",
   "name": "python3"
  },
  "language_info": {
   "codemirror_mode": {
    "name": "ipython",
    "version": 3
   },
   "file_extension": ".py",
   "mimetype": "text/x-python",
   "name": "python",
   "nbconvert_exporter": "python",
   "pygments_lexer": "ipython3",
   "version": "3.6.1"
  }
 },
 "nbformat": 4,
 "nbformat_minor": 2
}
