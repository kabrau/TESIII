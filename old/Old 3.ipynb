{
 "cells": [
  {
   "cell_type": "markdown",
   "metadata": {},
   "source": [
    "Load image with opencv"
   ]
  },
  {
   "cell_type": "code",
   "execution_count": 7,
   "metadata": {},
   "outputs": [
    {
     "name": "stdout",
     "output_type": "stream",
     "text": [
      "(48, 28, 3)\n",
      "[[[ 61  67  20]\n",
      "  [ 55  71  17]\n",
      "  [ 46  75  12]\n",
      "  ..., \n",
      "  [204 205 166]\n",
      "  [198 190 160]\n",
      "  [193 180 154]]\n",
      "\n",
      " [[ 55  63  22]\n",
      "  [ 55  69  21]\n",
      "  [ 51  76  14]\n",
      "  ..., \n",
      "  [125 131  90]\n",
      "  [135 132  94]\n",
      "  [143 134 100]]\n",
      "\n",
      " [[ 59  70  30]\n",
      "  [ 61  72  26]\n",
      "  [ 57  74  17]\n",
      "  ..., \n",
      "  [134 143 103]\n",
      "  [150 150 114]\n",
      "  [133 128  89]]\n",
      "\n",
      " ..., \n",
      " [[ 59  76  33]\n",
      "  [ 74  84  37]\n",
      "  [ 84  97  29]\n",
      "  ..., \n",
      "  [ 68  89  21]\n",
      "  [ 81  96  34]\n",
      "  [ 65  80  19]]\n",
      "\n",
      " [[ 65  78  24]\n",
      "  [ 73  83  30]\n",
      "  [ 74  90  26]\n",
      "  ..., \n",
      "  [118 137  74]\n",
      "  [113 127  69]\n",
      "  [ 82  95  41]]\n",
      "\n",
      " [[ 69  80  12]\n",
      "  [ 73  84  21]\n",
      "  [ 69  90  21]\n",
      "  ..., \n",
      "  [160 175 118]\n",
      "  [153 166 114]\n",
      "  [137 148  98]]]\n"
     ]
    }
   ],
   "source": [
    "import cv2\n",
    "\n",
    "img = cv2.imread(\"./images/0/16431531-0.jpg\")\n",
    "\n",
    "print(img.shape)\n",
    "print(img)"
   ]
  },
  {
   "cell_type": "markdown",
   "metadata": {},
   "source": [
    "show image"
   ]
  },
  {
   "cell_type": "code",
   "execution_count": null,
   "metadata": {
    "collapsed": true
   },
   "outputs": [],
   "source": []
  }
 ],
 "metadata": {
  "kernelspec": {
   "display_name": "Python 3",
   "language": "python",
   "name": "python3"
  },
  "language_info": {
   "codemirror_mode": {
    "name": "ipython",
    "version": 3
   },
   "file_extension": ".py",
   "mimetype": "text/x-python",
   "name": "python",
   "nbconvert_exporter": "python",
   "pygments_lexer": "ipython3",
   "version": "3.6.1"
  }
 },
 "nbformat": 4,
 "nbformat_minor": 2
}
